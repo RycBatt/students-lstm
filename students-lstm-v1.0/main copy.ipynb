{
 "cells": [
  {
   "cell_type": "code",
   "execution_count": 47,
   "metadata": {},
   "outputs": [],
   "source": [
    "import pandas as pd\n",
    "from keras.models import Sequential\n",
    "from keras.layers import LSTM\n",
    "from keras.layers import Dense \n",
    "from sklearn.metrics import roc_curve\n",
    "from sklearn.model_selection import LeaveOneOut\n",
    "from sklearn.model_selection import cross_validate\n",
    "from scikeras.wrappers import KerasClassifier\n",
    "\n",
    "\n",
    "import tensorflow as tf\n",
    "import matplotlib.pyplot as plt\n",
    "from sklearn.metrics import auc\n",
    "import numpy as np\n",
    "\n",
    "\n",
    "#array de colunas\n"
   ]
  },
  {
   "cell_type": "code",
   "execution_count": 48,
   "metadata": {},
   "outputs": [],
   "source": [
    "weeks1 = pd.read_csv('../data_raw/dados/2016-1/tabela processada nota media mediana iteracao.csv')\n",
    "features = ['Aprovado']\n",
    "\n",
    "for i in range(18):\n",
    "  features.append(f'Week{i}')\n",
    "  features.append(f'MedianaW{i}')\n",
    "  features.append(f'MediaW{i}')\n",
    "how = ['first']\n",
    "\n",
    "for i in range(18*3):\n",
    "  how.append(f'last')\n",
    "\n",
    "dict_agg = dict(zip(features,how))\n",
    "\n",
    "weeks2_semnotas = pd.read_csv('../data_raw/dados/2016-2/tabela final .csv')\n",
    "weeks2_comnotas = pd.read_csv('../data_raw/dados/2016-2/tabela de iteracoes com nota add.csv')\n",
    "#weeks2 = weeks2_semnotas.join(weeks2_comnotas,on='Nome',how='inner')\n",
    "weeks2_raw = pd.concat([weeks2_semnotas, weeks2_comnotas])\n",
    "weeks2 = weeks2_raw.groupby(weeks2_raw['Nome']).agg(dict_agg)\n",
    "weeks2.dropna(inplace=True)\n",
    "weeks3 = pd.read_csv('../data_raw/dados/2017-1/tabela final.csv')\n",
    "weeks4 = pd.read_csv('../data_raw/dados/2017-2/tabela com media mediana e interacao e nota.csv')\n",
    "\n",
    "weeks_raw =  [weeks1, weeks2, weeks3, weeks4]\n"
   ]
  },
  {
   "cell_type": "code",
   "execution_count": 49,
   "metadata": {},
   "outputs": [],
   "source": [
    "def weeks_formating(weeks):\n",
    "  \n",
    "  weeks.fillna(0, inplace=True)\n",
    "  weeks.drop(['Unnamed: 0.1','Notas', 'Unnamed: 0', 'Nome'], inplace=True, axis=1, errors='ignore')\n",
    "  weeks['Aprovado'] = pd.Categorical(weeks['Aprovado'])\n",
    "  weeks['Aprovado'] = weeks.Aprovado.cat.codes\n",
    "  weeks = (weeks\n",
    "          .replace('\\$\\s+','', regex=True)\n",
    "          .astype(float)\n",
    "          .applymap('{:.2f}'.format))\n",
    "  weeks = weeks.astype(float)\n",
    "  weeks_lbl = weeks['Aprovado']\n",
    "  return weeks, weeks_lbl"
   ]
  },
  {
   "cell_type": "code",
   "execution_count": 50,
   "metadata": {},
   "outputs": [],
   "source": [
    "def oversample_data(X_train, y_train):\n",
    "  smote = SMOTE(random_state = 101)\n",
    "  X_oversample, y_oversample = smote.fit_resample(X_train, y_train)\n",
    "  return X_oversample, y_oversample"
   ]
  },
  {
   "cell_type": "code",
   "execution_count": 51,
   "metadata": {},
   "outputs": [],
   "source": [
    "def weeks_data(data, weeks_num):\n",
    "\n",
    "  features = []\n",
    "\n",
    "  for i in range(weeks_num):\n",
    "    features.append(f'Week{i}')\n",
    "    features.append(f'MedianaW{i}')\n",
    "    features.append(f'MediaW{i}')\n",
    "    \n",
    "  features.append(f'Aprovado')\n",
    "  features.remove('Aprovado')\n",
    "  weeks = data[features]\n",
    "  weeks = weeks.to_numpy()\n",
    "  return weeks"
   ]
  },
  {
   "cell_type": "code",
   "execution_count": 52,
   "metadata": {},
   "outputs": [],
   "source": [
    "def build_model(weeks_num):\n",
    "    opt = tf.keras.optimizers.Adam(learning_rate=0.001, beta_1=0.9, beta_2=0.999, epsilon=None, decay=0.0, amsgrad=False)\n",
    "    model = Sequential()\n",
    "    model.add(LSTM(30, input_shape=(weeks_num, 3)))\n",
    "    model.add(Dense(1, activation='sigmoid'))\n",
    "    #model.add(Softmax(1))\n",
    "    model.compile(optimizer=opt, loss='binary_crossentropy', metrics=[\"accuracy\"])\n",
    "    return model"
   ]
  },
  {
   "cell_type": "code",
   "execution_count": 53,
   "metadata": {},
   "outputs": [],
   "source": [
    "from tabnanny import verbose\n",
    "\n",
    "\n",
    "weeks_num = 8\n",
    "weeks_num_lst = list(range(0,weeks_num))\n",
    "semester_lst = list()\n",
    "\n",
    "for week in weeks_raw:\n",
    "  weeks, label = weeks_formating(week)\n",
    "  weeks_auc = list()\n",
    "  \n",
    "  for i in range(weeks_num):\n",
    "\n",
    "    data = weeks_data(weeks, i+1)\n",
    "\n",
    "    X, y = data, label\n",
    "\n",
    "    loo = LeaveOneOut()\n",
    "\n",
    "    X = X.reshape(len(X), i+1, 3)\n",
    "\n",
    "    # model = KerasClassifier(model=build_model(i+1), epochs=5, batch_size=3, verbose=0)\n",
    "    # dentro do for: clear session, complie model, fit no kerasclassifier, usar o predict_proba(), agregar em yhat\n",
    "    # fora do for: usar a func dada, jogar na auc\n",
    "    # scores = cross_validate(model, X, y, scoring='neg_mean_absolute_error', cv=loo, n_jobs=-1)\n",
    "\n",
    "    y_true, y_pred = list(), list()\n",
    "    for train_ix, test_ix in loo.split(X):\n",
    "        tf.keras.backend.clear_session()\n",
    "      \t# split data\n",
    "        X_train, X_test = X[train_ix, :], X[test_ix, :]\n",
    "        y_train, y_test = y[train_ix], y[test_ix]\n",
    "        # fit model\n",
    "        model = KerasClassifier(model=build_model(i+1))\n",
    "        model.fit(X_train, y_train, verbose=0)\n",
    "        # evaluate model\n",
    "        yhat = model.predict_proba(X_test, verbose=0)\n",
    "        # store\n",
    "        yhat = np.array(yhat).squeeze()\n",
    "        test_i = y_test.item()\n",
    "        y_true.append(test_i)\n",
    "        result = np.where(yhat[1] > 0.5, 1, 0) #<--to get the binary category\n",
    "        y_pred.append(float(result.item()))\n",
    "\n",
    "    fpr_keras, tpr_keras, thresholds_keras = roc_curve(y_true,y_pred)\n",
    "    auc_keras = auc(fpr_keras, tpr_keras)\n",
    "    weeks_auc.append(auc_keras)\n",
    "  semester_lst.append(weeks_auc)\n",
    "\n",
    "\n",
    "    \n",
    "\n",
    "    \n"
   ]
  },
  {
   "cell_type": "code",
   "execution_count": 54,
   "metadata": {},
   "outputs": [
    {
     "data": {
      "image/png": "[encoded data removed]",
      "text/plain": [
       "<Figure size 432x288 with 1 Axes>"
      ]
     },
     "metadata": {
      "needs_background": "light"
     },
     "output_type": "display_data"
    }
   ],
   "source": [
    "semester_dict = {0:'2016-1', 1:'2016-2', 2:'2017-1', 3:'2017-2'}\n",
    "plt.plot(weeks_num_lst, [0.5]*weeks_num, label=str(i)+' semester')\n",
    "\n",
    "for j in range(4):\n",
    "  plt.plot(weeks_num_lst, semester_lst[j], label=semester_dict[j])\n",
    "plt.xlabel('Week')\n",
    "plt.ylabel('Auc')\n",
    "plt.ylim(0, 1)\n",
    "plt.xlim(0,weeks_num)\n",
    "plt.legend()\n",
    "plt.show()"
   ]
  },
  {
   "cell_type": "code",
   "execution_count": null,
   "metadata": {},
   "outputs": [],
   "source": []
  }
 ],
 "metadata": {
  "kernelspec": {
   "display_name": "Python 3.9.4 64-bit",
   "language": "python",
   "name": "python3"
  },
  "language_info": {
   "codemirror_mode": {
    "name": "ipython",
    "version": 3
   },
   "file_extension": ".py",
   "mimetype": "text/x-python",
   "name": "python",
   "nbconvert_exporter": "python",
   "pygments_lexer": "ipython3",
   "version": "3.9.4"
  },
  "orig_nbformat": 4,
  "vscode": {
   "interpreter": {
    "hash": "33e0ccba7d6455ad36d9e8e37b48a197789eab62a4c4b3e5410506b7cc84992d"
   }
  }
 },
 "nbformat": 4,
 "nbformat_minor": 2
}
