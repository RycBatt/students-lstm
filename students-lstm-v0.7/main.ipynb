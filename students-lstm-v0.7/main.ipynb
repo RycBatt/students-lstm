{
 "cells": [
  {
   "cell_type": "code",
   "execution_count": 196,
   "metadata": {},
   "outputs": [],
   "source": [
    "import pandas as pd\n",
    "from keras.models import Sequential\n",
    "from keras.layers import LSTM\n",
    "from keras.layers import Dense, Softmax, Dropout\n",
    "from sklearn.model_selection import train_test_split\n",
    "from sklearn.metrics import roc_curve\n",
    "import tensorflow as tf\n",
    "import datetime\n",
    "import tensorboard\n",
    "import matplotlib.pyplot as plt\n",
    "from sklearn.metrics import auc\n",
    "import numpy as np\n",
    "from imblearn.over_sampling import SMOTE\n",
    "\n",
    "\n",
    "#array de colunas\n"
   ]
  },
  {
   "cell_type": "code",
   "execution_count": 197,
   "metadata": {},
   "outputs": [],
   "source": [
    "weeks1 = pd.read_csv('../data_raw/dados/2016-1/tabela processada nota media mediana iteracao.csv')\n",
    "\n",
    "features = ['Aprovado']\n",
    "\n",
    "for i in range(18):\n",
    "  features.append(f'Week{i}')\n",
    "  features.append(f'MedianaW{i}')\n",
    "  features.append(f'MediaW{i}')\n",
    "how = ['first']\n",
    "\n",
    "for i in range(18*3):\n",
    "  how.append(f'last')\n",
    "\n",
    "dict_agg = dict(zip(features,how))\n",
    "\n",
    "weeks2_semnotas = pd.read_csv('../data_raw/dados/2016-2/tabela final .csv')\n",
    "weeks2_comnotas = pd.read_csv('../data_raw/dados/2016-2/tabela de iteracoes com nota add.csv')\n",
    "#weeks2 = weeks2_semnotas.join(weeks2_comnotas,on='Nome',how='inner')\n",
    "weeks2_raw = pd.concat([weeks2_semnotas, weeks2_comnotas])\n",
    "weeks2 = weeks2_raw.groupby(weeks2_raw['Nome']).agg(dict_agg)\n",
    "weeks2.dropna(inplace=True)\n",
    "weeks3 = pd.read_csv('../data_raw/dados/2017-1/tabela final.csv')\n",
    "weeks4 = pd.read_csv('../data_raw/dados/2017-2/tabela com media mediana e interacao e nota.csv')\n",
    "\n",
    "weeks_raw = [weeks1, weeks2, weeks3, weeks4]\n",
    "\n",
    "# weeks_raw =  pd.concat([weeks1, weeks2, weeks3, weeks4])\n"
   ]
  },
  {
   "cell_type": "code",
   "execution_count": 198,
   "metadata": {},
   "outputs": [],
   "source": [
    "def weeks_formating(weeks):\n",
    "  \n",
    "  weeks.fillna(0, inplace=True)\n",
    "  weeks.drop(['Unnamed: 0.1','Notas', 'Unnamed: 0', 'Nome'], inplace=True, axis=1, errors=\"ignore\")\n",
    "  weeks['Aprovado'] = pd.Categorical(weeks['Aprovado'])\n",
    "  weeks['Aprovado'] = weeks.Aprovado.cat.codes\n",
    "  weeks = (weeks\n",
    "          .replace('\\$\\s+','', regex=True)\n",
    "          .astype(float)\n",
    "          .applymap('{:.2f}'.format))\n",
    "  weeks = weeks.astype(float)\n",
    "  weeks_lbl = weeks['Aprovado']\n",
    "  count_zero = (weeks['Aprovado'] == 0).sum()\n",
    "  count_one = (weeks['Aprovado'] == 1).sum()\n",
    "  print(count_zero, count_one)\n",
    "  return weeks, weeks_lbl"
   ]
  },
  {
   "cell_type": "code",
   "execution_count": 199,
   "metadata": {},
   "outputs": [],
   "source": [
    "def oversample_data(X_train, y_train):\n",
    "  smote = SMOTE(random_state = 101)\n",
    "  X_oversample, y_oversample = smote.fit_resample(X_train, y_train)\n",
    "  return X_oversample, y_oversample"
   ]
  },
  {
   "cell_type": "code",
   "execution_count": 200,
   "metadata": {},
   "outputs": [],
   "source": [
    "def weeks_data(data, weeks_num):\n",
    "\n",
    "  features = []\n",
    "\n",
    "  for i in range(weeks_num):\n",
    "    features.append(f'Week{i}')\n",
    "    features.append(f'MedianaW{i}')\n",
    "    features.append(f'MediaW{i}')\n",
    "    \n",
    "  features.append(f'Aprovado')\n",
    "  features.remove('Aprovado')\n",
    "  weeks = data[features]\n",
    "  weeks = weeks.to_numpy()\n",
    "  return weeks"
   ]
  },
  {
   "cell_type": "code",
   "execution_count": 201,
   "metadata": {},
   "outputs": [],
   "source": [
    "def build_model(weeks_num):\n",
    "    opt = tf.keras.optimizers.Adam(learning_rate=0.001, beta_1=0.9, beta_2=0.999, epsilon=None, decay=0.0, amsgrad=False)\n",
    "    model = Sequential()\n",
    "    model.add(LSTM(30, input_shape=(weeks_num, 3)))\n",
    "    model.add(Dense(1, activation='sigmoid'))\n",
    "    #model.add(Softmax(1))\n",
    "    model.compile(optimizer=opt, loss='binary_crossentropy', metrics=[\"accuracy\"])\n",
    "    return model\n"
   ]
  },
  {
   "cell_type": "code",
   "execution_count": 202,
   "metadata": {},
   "outputs": [
    {
     "name": "stdout",
     "output_type": "stream",
     "text": [
      "6 18\n"
     ]
    },
    {
     "ename": "ValueError",
     "evalue": "cannot reshape array of size 78 into shape (26,2,3)",
     "output_type": "error",
     "traceback": [
      "\u001b[0;31m---------------------------------------------------------------------------\u001b[0m",
      "\u001b[0;31mValueError\u001b[0m                                Traceback (most recent call last)",
      "\u001b[1;32m/Users/ricardobattaglin/Documents/7 Semestre/PIBIC/students-lstm-v0.7/main.ipynb Cell 7'\u001b[0m in \u001b[0;36m<cell line: 1>\u001b[0;34m()\u001b[0m\n\u001b[1;32m     <a href='vscode-notebook-cell:/Users/ricardobattaglin/Documents/7%20Semestre/PIBIC/students-lstm-v0.7/main.ipynb#ch0000006?line=9'>10</a>\u001b[0m X, y \u001b[39m=\u001b[39m data, label\n\u001b[1;32m     <a href='vscode-notebook-cell:/Users/ricardobattaglin/Documents/7%20Semestre/PIBIC/students-lstm-v0.7/main.ipynb#ch0000006?line=11'>12</a>\u001b[0m X_train, X_test, y_train, y_test \u001b[39m=\u001b[39m train_test_split(X, y, test_size\u001b[39m=\u001b[39m\u001b[39m0.2\u001b[39m)\n\u001b[0;32m---> <a href='vscode-notebook-cell:/Users/ricardobattaglin/Documents/7%20Semestre/PIBIC/students-lstm-v0.7/main.ipynb#ch0000006?line=13'>14</a>\u001b[0m X_train_oversampled \u001b[39m=\u001b[39m X_train_oversampled\u001b[39m.\u001b[39;49mreshape(\u001b[39mlen\u001b[39;49m(X_train_oversampled), i\u001b[39m+\u001b[39;49m\u001b[39m1\u001b[39;49m, \u001b[39m3\u001b[39;49m)\n\u001b[1;32m     <a href='vscode-notebook-cell:/Users/ricardobattaglin/Documents/7%20Semestre/PIBIC/students-lstm-v0.7/main.ipynb#ch0000006?line=14'>15</a>\u001b[0m X_test \u001b[39m=\u001b[39m X_test\u001b[39m.\u001b[39mreshape(\u001b[39mlen\u001b[39m(X_test), i\u001b[39m+\u001b[39m\u001b[39m1\u001b[39m, \u001b[39m3\u001b[39m)\n\u001b[1;32m     <a href='vscode-notebook-cell:/Users/ricardobattaglin/Documents/7%20Semestre/PIBIC/students-lstm-v0.7/main.ipynb#ch0000006?line=17'>18</a>\u001b[0m model \u001b[39m=\u001b[39m build_model(i\u001b[39m+\u001b[39m\u001b[39m1\u001b[39m)\n",
      "\u001b[0;31mValueError\u001b[0m: cannot reshape array of size 78 into shape (26,2,3)"
     ]
    },
    {
     "data": {
      "image/png": "[encoded data removed]",
      "text/plain": [
       "<Figure size 432x288 with 1 Axes>"
      ]
     },
     "metadata": {
      "needs_background": "light"
     },
     "output_type": "display_data"
    }
   ],
   "source": [
    "for j in range(3):\n",
    "\n",
    "  weeks_num = 15\n",
    "  weeks, label = weeks_formating(weeks_raw[j+1])\n",
    "\n",
    "  for i in range(weeks_num):\n",
    "\n",
    "    data = weeks_data(weeks, i+1)\n",
    "\n",
    "    X, y = data, label\n",
    "\n",
    "    X_train, X_test, y_train, y_test = train_test_split(X, y, test_size=0.1)\n",
    "\n",
    "    X_train_oversampled = X_train_oversampled.reshape(len(X_train_oversampled), i+1, 3)\n",
    "    X_test = X_test.reshape(len(X_test), i+1, 3)\n",
    "\n",
    "\n",
    "    model = build_model(i+1)\n",
    "\n",
    "\n",
    "    model.fit(x=X_train_oversampled,\n",
    "            y=y_train_oversampled,\n",
    "            batch_size=3,  \n",
    "            epochs=10, \n",
    "            verbose=0)\n",
    "\n",
    "    y_pred_keras = model.predict(X_test).ravel()\n",
    "    fpr_keras, tpr_keras, thresholds_keras = roc_curve(y_test, y_pred_keras)\n",
    "    auc_keras = auc(fpr_keras, tpr_keras)\n",
    "\n",
    "    plt.plot(fpr_keras, tpr_keras, label='Week {} (area = {:.3f})'.format(i+1, auc_keras))\n",
    "    \n",
    "  plt.plot([0, 1], [0, 1], 'k--')\n",
    "  plt.xlabel('False positive rate')\n",
    "  plt.ylabel('True positive rate')\n",
    "  plt.title('ROC curve 15 weeks')\n",
    "  plt.legend(loc='best')\n",
    "  plt.show()"
   ]
  }
 ],
 "metadata": {
  "interpreter": {
   "hash": "7812ea015bdcee6f23a998adcdd2ef97c151c0c241b7b7070987d9313e41299d"
  },
  "kernelspec": {
   "display_name": "Python 3.9.0 64-bit",
   "language": "python",
   "name": "python3"
  },
  "language_info": {
   "codemirror_mode": {
    "name": "ipython",
    "version": 3
   },
   "file_extension": ".py",
   "mimetype": "text/x-python",
   "name": "python",
   "nbconvert_exporter": "python",
   "pygments_lexer": "ipython3",
   "version": "3.9.0"
  },
  "orig_nbformat": 4
 },
 "nbformat": 4,
 "nbformat_minor": 2
}
