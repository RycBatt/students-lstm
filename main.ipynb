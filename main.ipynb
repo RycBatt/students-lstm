{
 "cells": [
  {
   "cell_type": "code",
   "execution_count": 75,
   "metadata": {},
   "outputs": [],
   "source": [
    "import pandas as pd\n",
    "from keras.models import Sequential\n",
    "from keras.layers import LSTM\n",
    "from keras.layers import Dense\n",
    "\n",
    "import numpy as np"
   ]
  },
  {
   "cell_type": "code",
   "execution_count": 76,
   "metadata": {},
   "outputs": [
    {
     "data": {
      "text/html": [
       "<div>\n",
       "<style scoped>\n",
       "    .dataframe tbody tr th:only-of-type {\n",
       "        vertical-align: middle;\n",
       "    }\n",
       "\n",
       "    .dataframe tbody tr th {\n",
       "        vertical-align: top;\n",
       "    }\n",
       "\n",
       "    .dataframe thead th {\n",
       "        text-align: right;\n",
       "    }\n",
       "</style>\n",
       "<table border=\"1\" class=\"dataframe\">\n",
       "  <thead>\n",
       "    <tr style=\"text-align: right;\">\n",
       "      <th></th>\n",
       "      <th>Unnamed: 0</th>\n",
       "      <th>Nome</th>\n",
       "      <th>Week0</th>\n",
       "      <th>MedianaW0</th>\n",
       "      <th>MediaW0</th>\n",
       "      <th>Week1</th>\n",
       "      <th>MedianaW1</th>\n",
       "      <th>MediaW1</th>\n",
       "      <th>Week2</th>\n",
       "      <th>MedianaW2</th>\n",
       "      <th>...</th>\n",
       "      <th>MedianaW15</th>\n",
       "      <th>MediaW15</th>\n",
       "      <th>Week16</th>\n",
       "      <th>MedianaW16</th>\n",
       "      <th>MediaW16</th>\n",
       "      <th>Week17</th>\n",
       "      <th>MedianaW17</th>\n",
       "      <th>MediaW17</th>\n",
       "      <th>Notas</th>\n",
       "      <th>Aprovado</th>\n",
       "    </tr>\n",
       "  </thead>\n",
       "  <tbody>\n",
       "    <tr>\n",
       "      <th>0</th>\n",
       "      <td>0</td>\n",
       "      <td>Augusto Cesar Damada Sarkissian (16104910)</td>\n",
       "      <td>15</td>\n",
       "      <td>15.0</td>\n",
       "      <td>15.000000</td>\n",
       "      <td>5</td>\n",
       "      <td>5.0</td>\n",
       "      <td>5.000000</td>\n",
       "      <td>0</td>\n",
       "      <td>0.0</td>\n",
       "      <td>...</td>\n",
       "      <td>0.0</td>\n",
       "      <td>0.000000</td>\n",
       "      <td>0</td>\n",
       "      <td>0.0</td>\n",
       "      <td>0.0</td>\n",
       "      <td>0</td>\n",
       "      <td>0.0</td>\n",
       "      <td>0.0</td>\n",
       "      <td>0</td>\n",
       "      <td>Reprovado</td>\n",
       "    </tr>\n",
       "    <tr>\n",
       "      <th>1</th>\n",
       "      <td>1</td>\n",
       "      <td>Bruna do Nascimento Goulart (16102435)</td>\n",
       "      <td>21</td>\n",
       "      <td>10.5</td>\n",
       "      <td>10.500000</td>\n",
       "      <td>16</td>\n",
       "      <td>5.0</td>\n",
       "      <td>5.333333</td>\n",
       "      <td>3</td>\n",
       "      <td>1.5</td>\n",
       "      <td>...</td>\n",
       "      <td>3.0</td>\n",
       "      <td>3.333333</td>\n",
       "      <td>5</td>\n",
       "      <td>2.5</td>\n",
       "      <td>2.5</td>\n",
       "      <td>3</td>\n",
       "      <td>3.0</td>\n",
       "      <td>3.0</td>\n",
       "      <td>5</td>\n",
       "      <td>Reprovado</td>\n",
       "    </tr>\n",
       "    <tr>\n",
       "      <th>2</th>\n",
       "      <td>2</td>\n",
       "      <td>Bruno Pereira dos Santos (16102437)</td>\n",
       "      <td>3</td>\n",
       "      <td>3.0</td>\n",
       "      <td>3.000000</td>\n",
       "      <td>20</td>\n",
       "      <td>9.0</td>\n",
       "      <td>6.666667</td>\n",
       "      <td>1</td>\n",
       "      <td>1.0</td>\n",
       "      <td>...</td>\n",
       "      <td>0.0</td>\n",
       "      <td>0.000000</td>\n",
       "      <td>2</td>\n",
       "      <td>2.0</td>\n",
       "      <td>2.0</td>\n",
       "      <td>0</td>\n",
       "      <td>0.0</td>\n",
       "      <td>0.0</td>\n",
       "      <td>0</td>\n",
       "      <td>Reprovado</td>\n",
       "    </tr>\n",
       "    <tr>\n",
       "      <th>3</th>\n",
       "      <td>3</td>\n",
       "      <td>Diefferson Koderer Môro (16102439)</td>\n",
       "      <td>350</td>\n",
       "      <td>9.0</td>\n",
       "      <td>116.666667</td>\n",
       "      <td>1568</td>\n",
       "      <td>297.0</td>\n",
       "      <td>313.600000</td>\n",
       "      <td>1054</td>\n",
       "      <td>284.0</td>\n",
       "      <td>...</td>\n",
       "      <td>87.5</td>\n",
       "      <td>87.500000</td>\n",
       "      <td>1</td>\n",
       "      <td>1.0</td>\n",
       "      <td>1.0</td>\n",
       "      <td>1</td>\n",
       "      <td>1.0</td>\n",
       "      <td>1.0</td>\n",
       "      <td>10</td>\n",
       "      <td>Aprovado</td>\n",
       "    </tr>\n",
       "    <tr>\n",
       "      <th>4</th>\n",
       "      <td>4</td>\n",
       "      <td>Emmanuel Eli Placido (16104914)</td>\n",
       "      <td>6</td>\n",
       "      <td>6.0</td>\n",
       "      <td>6.000000</td>\n",
       "      <td>11</td>\n",
       "      <td>2.5</td>\n",
       "      <td>2.750000</td>\n",
       "      <td>5</td>\n",
       "      <td>2.5</td>\n",
       "      <td>...</td>\n",
       "      <td>1.0</td>\n",
       "      <td>1.333333</td>\n",
       "      <td>4</td>\n",
       "      <td>2.0</td>\n",
       "      <td>2.0</td>\n",
       "      <td>3</td>\n",
       "      <td>3.0</td>\n",
       "      <td>3.0</td>\n",
       "      <td>5</td>\n",
       "      <td>Reprovado</td>\n",
       "    </tr>\n",
       "  </tbody>\n",
       "</table>\n",
       "<p>5 rows × 58 columns</p>\n",
       "</div>"
      ],
      "text/plain": [
       "   Unnamed: 0                                        Nome  Week0  MedianaW0  \\\n",
       "0           0  Augusto Cesar Damada Sarkissian (16104910)     15       15.0   \n",
       "1           1      Bruna do Nascimento Goulart (16102435)     21       10.5   \n",
       "2           2         Bruno Pereira dos Santos (16102437)      3        3.0   \n",
       "3           3          Diefferson Koderer Môro (16102439)    350        9.0   \n",
       "4           4             Emmanuel Eli Placido (16104914)      6        6.0   \n",
       "\n",
       "      MediaW0  Week1  MedianaW1     MediaW1  Week2  MedianaW2  ...  \\\n",
       "0   15.000000      5        5.0    5.000000      0        0.0  ...   \n",
       "1   10.500000     16        5.0    5.333333      3        1.5  ...   \n",
       "2    3.000000     20        9.0    6.666667      1        1.0  ...   \n",
       "3  116.666667   1568      297.0  313.600000   1054      284.0  ...   \n",
       "4    6.000000     11        2.5    2.750000      5        2.5  ...   \n",
       "\n",
       "   MedianaW15   MediaW15  Week16  MedianaW16  MediaW16  Week17  MedianaW17  \\\n",
       "0         0.0   0.000000       0         0.0       0.0       0         0.0   \n",
       "1         3.0   3.333333       5         2.5       2.5       3         3.0   \n",
       "2         0.0   0.000000       2         2.0       2.0       0         0.0   \n",
       "3        87.5  87.500000       1         1.0       1.0       1         1.0   \n",
       "4         1.0   1.333333       4         2.0       2.0       3         3.0   \n",
       "\n",
       "   MediaW17  Notas   Aprovado  \n",
       "0       0.0      0  Reprovado  \n",
       "1       3.0      5  Reprovado  \n",
       "2       0.0      0  Reprovado  \n",
       "3       1.0     10   Aprovado  \n",
       "4       3.0      5  Reprovado  \n",
       "\n",
       "[5 rows x 58 columns]"
      ]
     },
     "execution_count": 76,
     "metadata": {},
     "output_type": "execute_result"
    }
   ],
   "source": [
    "weeks = pd.read_csv('data_raw/dados/2016-1/tabela processada nota media mediana iteracao.csv')\n",
    "weeks.head()"
   ]
  },
  {
   "cell_type": "code",
   "execution_count": 88,
   "metadata": {},
   "outputs": [],
   "source": [
    "weeks.loc[weeks['Aprovado'] == 'Aprovado', 'Aprovado'] = '1'\n",
    "weeks.loc[weeks['Aprovado'] == 'Reprovado', 'Aprovado'] = '0'\n",
    "weeks.drop(weeks.iloc[:, 0:2], inplace=True, axis=1)"
   ]
  },
  {
   "cell_type": "code",
   "execution_count": 89,
   "metadata": {},
   "outputs": [],
   "source": [
    "train, validation, test = np.split(weeks.sample(frac=1), [int(.7*len(weeks)), int(.85*len(weeks))])\n",
    "\n",
    "X_train = train[[train.columns[i] for i in range(train.shape[1]-1) ]]\n",
    "y_train = train[train.columns[-1]]\n",
    "X_test = test[[test.columns[i] for i in range(train.shape[1]-1) ]]\n",
    "y_test = test[test.columns[-1]]\n",
    "X_val = validation[[validation.columns[i] for i in \n",
    "                    range(validation.shape[1]-1) ]]\n",
    "y_val = validation[validation.columns[-1]]"
   ]
  },
  {
   "cell_type": "code",
   "execution_count": 93,
   "metadata": {},
   "outputs": [],
   "source": [
    "model = Sequential()\n",
    "model.add(LSTM(50, activation='relu', input_shape=(55, 1)))\n",
    "model.add(Dense(1))\n",
    "model.compile(optimizer='adam', loss='mse')"
   ]
  },
  {
   "cell_type": "code",
   "execution_count": 94,
   "metadata": {},
   "outputs": [
    {
     "data": {
      "text/plain": [
       "<keras.callbacks.History at 0x7fc04701cc70>"
      ]
     },
     "execution_count": 94,
     "metadata": {},
     "output_type": "execute_result"
    }
   ],
   "source": [
    "model.fit(X_train, y_train, epochs=200, verbose=0)"
   ]
  },
  {
   "cell_type": "code",
   "execution_count": 95,
   "metadata": {},
   "outputs": [
    {
     "name": "stdout",
     "output_type": "stream",
     "text": [
      "[[ 0.35224408]\n",
      " [-0.00951352]\n",
      " [ 0.330977  ]\n",
      " [ 0.23820965]\n",
      " [ 0.3854926 ]]\n"
     ]
    }
   ],
   "source": [
    "yhat = model.predict(X_test, verbose=0)\n",
    "print(yhat)"
   ]
  },
  {
   "cell_type": "code",
   "execution_count": null,
   "metadata": {},
   "outputs": [],
   "source": []
  }
 ],
 "metadata": {
  "interpreter": {
   "hash": "7812ea015bdcee6f23a998adcdd2ef97c151c0c241b7b7070987d9313e41299d"
  },
  "kernelspec": {
   "display_name": "Python 3.9.0 64-bit",
   "language": "python",
   "name": "python3"
  },
  "language_info": {
   "codemirror_mode": {
    "name": "ipython",
    "version": 3
   },
   "file_extension": ".py",
   "mimetype": "text/x-python",
   "name": "python",
   "nbconvert_exporter": "python",
   "pygments_lexer": "ipython3",
   "version": "3.9.0"
  },
  "orig_nbformat": 4
 },
 "nbformat": 4,
 "nbformat_minor": 2
}
